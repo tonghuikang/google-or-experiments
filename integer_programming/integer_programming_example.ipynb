{
 "cells": [
  {
   "cell_type": "code",
   "execution_count": 1,
   "metadata": {},
   "outputs": [],
   "source": [
    "from __future__ import print_function\n",
    "from ortools.linear_solver import pywraplp"
   ]
  },
  {
   "cell_type": "code",
   "execution_count": 2,
   "metadata": {},
   "outputs": [],
   "source": [
    "# Create the mip solver with the CBC backend.\n",
    "solver = pywraplp.Solver('IntegerProgrammingExample',\n",
    "                         pywraplp.Solver.CBC_MIXED_INTEGER_PROGRAMMING)"
   ]
  },
  {
   "cell_type": "code",
   "execution_count": 3,
   "metadata": {},
   "outputs": [],
   "source": [
    "# x, y, and z are non-negative integer variables.\n",
    "x = solver.IntVar(0.0, solver.infinity(), 'x')\n",
    "y = solver.IntVar(0.0, solver.infinity(), 'y')\n",
    "z = solver.IntVar(0.0, solver.infinity(), 'z')"
   ]
  },
  {
   "cell_type": "code",
   "execution_count": 4,
   "metadata": {},
   "outputs": [],
   "source": [
    "# 2*x + 7*y + 3*z <= 50\n",
    "constraint0 = solver.Constraint(-solver.infinity(), 50)\n",
    "constraint0.SetCoefficient(x, 2)\n",
    "constraint0.SetCoefficient(y, 7)\n",
    "constraint0.SetCoefficient(z, 3)\n",
    "\n",
    "# 3*x - 5*y + 7*z <= 45\n",
    "constraint1 = solver.Constraint(-solver.infinity(), 45)\n",
    "constraint1.SetCoefficient(x, 3)\n",
    "constraint1.SetCoefficient(y, -5)\n",
    "constraint1.SetCoefficient(z, 7)\n",
    "\n",
    "# 5*x + 2*y - 6*z <= 37\n",
    "constraint2 = solver.Constraint(-solver.infinity(), 37)\n",
    "constraint2.SetCoefficient(x, 5)\n",
    "constraint2.SetCoefficient(y, 2)\n",
    "constraint2.SetCoefficient(z, -6)"
   ]
  },
  {
   "cell_type": "code",
   "execution_count": 5,
   "metadata": {},
   "outputs": [],
   "source": [
    "# Maximize 2*x + 2*y + 3*z\n",
    "objective = solver.Objective()\n",
    "objective.SetCoefficient(x, 2)\n",
    "objective.SetCoefficient(y, 2)\n",
    "objective.SetCoefficient(z, 3)\n",
    "objective.SetMaximization()"
   ]
  },
  {
   "cell_type": "code",
   "execution_count": 6,
   "metadata": {},
   "outputs": [
    {
     "name": "stdout",
     "output_type": "stream",
     "text": [
      "Maximum objective function value = 35\n",
      "\n",
      "x = 7\n",
      "y = 3\n",
      "z = 5\n",
      "CPU times: user 6.32 ms, sys: 1.88 ms, total: 8.2 ms\n",
      "Wall time: 7.58 ms\n"
     ]
    }
   ],
   "source": [
    "%%time\n",
    "# Solve the problem and print the solution.\n",
    "solver.Solve()\n",
    "# Print the objective value of the solution.\n",
    "print('Maximum objective function value = %d' % solver.Objective().Value())\n",
    "print()\n",
    "# Print the value of each variable in the solution.\n",
    "for variable in [x, y, z]:\n",
    "    print('%s = %d' % (variable.name(), variable.solution_value()))"
   ]
  },
  {
   "cell_type": "code",
   "execution_count": null,
   "metadata": {},
   "outputs": [],
   "source": []
  }
 ],
 "metadata": {
  "kernelspec": {
   "display_name": "Python [conda env:hc] *",
   "language": "python",
   "name": "conda-env-hc-py"
  },
  "language_info": {
   "codemirror_mode": {
    "name": "ipython",
    "version": 3
   },
   "file_extension": ".py",
   "mimetype": "text/x-python",
   "name": "python",
   "nbconvert_exporter": "python",
   "pygments_lexer": "ipython3",
   "version": "3.7.6"
  }
 },
 "nbformat": 4,
 "nbformat_minor": 4
}
